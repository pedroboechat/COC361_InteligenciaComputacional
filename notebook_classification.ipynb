{
 "cells": [
  {
   "cell_type": "markdown",
   "metadata": {},
   "source": [
    "## **Rede Neural - Classificação** <br> COC361 - Inteligência Computacional (2021.2)\n",
    "### Alunos: <br> Henrique Chaves (DRE 119025571) <br> Pedro Boechat (DRE 119065050)\n",
    "<hr>"
   ]
  },
  {
   "cell_type": "markdown",
   "metadata": {},
   "source": [
    "### • Importação das bibliotecas"
   ]
  },
  {
   "cell_type": "code",
   "execution_count": 1,
   "metadata": {},
   "outputs": [
    {
     "name": "stdout",
     "output_type": "stream",
     "text": [
      "Número de GPUs disponíveis:  1\n"
     ]
    }
   ],
   "source": [
    "# Bibliotecas padrão\n",
    "from os import (\n",
    "    listdir,\n",
    "    makedirs\n",
    ")\n",
    "\n",
    "# Bibliotecas para manipulação dos dados\n",
    "import kaggle\n",
    "import numpy as np\n",
    "import pandas as pd\n",
    "\n",
    "# SKLearn\n",
    "from sklearn.model_selection import train_test_split\n",
    "from sklearn.metrics import (\n",
    "    confusion_matrix,\n",
    "    ConfusionMatrixDisplay\n",
    ")\n",
    "\n",
    "# Tensorflow/Keras\n",
    "from tensorflow.keras.layers import (\n",
    "    Dense,\n",
    "    Dropout\n",
    ")\n",
    "from tensorflow.keras.models import Sequential\n",
    "from tensorflow.keras.callbacks import (\n",
    "    ModelCheckpoint,\n",
    "    ReduceLROnPlateau\n",
    ")\n",
    "from tensorflow.keras.wrappers.scikit_learn import KerasRegressor\n",
    "from tensorflow.config import list_physical_devices\n",
    "\n",
    "# Bibliotecas para plot\n",
    "import matplotlib.pyplot as plt\n",
    "import seaborn as sns\n",
    "sns.set()\n",
    "\n",
    "# Carregamento das variáveis de ambiente\n",
    "from dotenv import load_dotenv\n",
    "load_dotenv()\n",
    "\n",
    "# Número de GPUs disponíveis para o Tensorflow/Keras\n",
    "print(\"Número de GPUs disponíveis: \", len(list_physical_devices('GPU')))"
   ]
  },
  {
   "cell_type": "markdown",
   "metadata": {},
   "source": [
    "### • Download do dataset ([Link](https://www.kaggle.com/mlg-ulb/creditcardfraud?select=creditcard.csv))"
   ]
  },
  {
   "cell_type": "code",
   "execution_count": 5,
   "metadata": {
    "tags": []
   },
   "outputs": [],
   "source": [
    "# Cria pasta de destino, caso não exista\n",
    "makedirs(\"./data/classification\", exist_ok=True)\n",
    "\n",
    "# Se a pasta de destino estiver vazia, baixa os dados\n",
    "if len(listdir(\"./data/classification/\")) == 0:\n",
    "    kaggle.api.dataset_download_file(\n",
    "        \"mathchi/diabetes-data-set\",\n",
    "        \"diabetes.csv\",\n",
    "        \"./data/classification/\"\n",
    "    )"
   ]
  },
  {
   "cell_type": "markdown",
   "metadata": {},
   "source": [
    "### • Carregamento do dataset"
   ]
  },
  {
   "cell_type": "code",
   "execution_count": 6,
   "metadata": {},
   "outputs": [],
   "source": [
    "# Carregamento dos dados\n",
    "df = pd.read_csv(\"./data/classification/diabetes.csv\")"
   ]
  },
  {
   "cell_type": "markdown",
   "metadata": {},
   "source": [
    "### • Divisão do dataset em treino e teste"
   ]
  },
  {
   "cell_type": "code",
   "execution_count": 8,
   "metadata": {},
   "outputs": [],
   "source": [
    "# Divisão do dataset em treino e teste, com a coluna `Class` como y\n",
    "X_train, X_test, y_train, y_test = train_test_split(\n",
    "    df.iloc[:,:-1],\n",
    "    df.iloc[:,-1],\n",
    "    test_size=0.2,\n",
    "    random_state=42\n",
    ")"
   ]
  },
  {
   "cell_type": "markdown",
   "metadata": {},
   "source": [
    "### • Definição de callbacks da rede"
   ]
  },
  {
   "cell_type": "code",
   "execution_count": null,
   "metadata": {},
   "outputs": [],
   "source": [
    "# Salva o modelo a cada melhora\n",
    "checkpoint = ModelCheckpoint(\n",
    "    \"./data/classification/checkpoints\",\n",
    "    monitor=\"val_accuracy\",\n",
    "    save_best_only=True,\n",
    "    mode=\"max\",\n",
    "    verbose=1\n",
    ")\n",
    "\n",
    "# Reduz a learning rate caso o modelo esteja estagnado\n",
    "lr_reduce = ReduceLROnPlateau(\n",
    "    monitor=\"val_accuracy\",\n",
    "    factor=0.1,\n",
    "    min_delta=1e-5,\n",
    "    patience=5,\n",
    "    verbose=1\n",
    ")\n",
    "\n",
    "# Lista contendo os checkpoints definidos\n",
    "callbacks = [checkpoint, lr_reduce]"
   ]
  },
  {
   "cell_type": "markdown",
   "metadata": {},
   "source": [
    "### • Definição das camadas da rede"
   ]
  },
  {
   "cell_type": "code",
   "execution_count": null,
   "metadata": {},
   "outputs": [],
   "source": [
    "# Criação do modelo sequencial\n",
    "model = models.Sequential()\n",
    "\n",
    "# Camada de pooling\n",
    "model.add(layers.GlobalAveragePooling2D())\n",
    "\n",
    "# Camada de normalização\n",
    "model.add(layers.BatchNormalization())\n",
    "\n",
    "# Camada de achatamento\n",
    "model.add(layers.Flatten())\n",
    "\n",
    "# Camada de adensamento com ativação RELU\n",
    "model.add(layers.Dense(128, activation='relu'))\n",
    "\n",
    "# Camada de dropout\n",
    "model.add(layers.Dropout(0.2))\n",
    "\n",
    "# Camada de adensamento com ativação SOFTMAX\n",
    "model.add(layers.Dense(3, activation='softmax'))"
   ]
  },
  {
   "cell_type": "markdown",
   "metadata": {},
   "source": [
    "### • Compilação da rede"
   ]
  },
  {
   "cell_type": "code",
   "execution_count": null,
   "metadata": {},
   "outputs": [],
   "source": [
    "# Compilação do modelo\n",
    "model.compile(loss='categorical_crossentropy', optimizer='adam', metrics=['accuracy'])"
   ]
  },
  {
   "cell_type": "markdown",
   "metadata": {},
   "source": [
    "### • Treino da rede"
   ]
  },
  {
   "cell_type": "code",
   "execution_count": null,
   "metadata": {},
   "outputs": [],
   "source": [
    "# Treino do modelo\n",
    "history = model.fit(\n",
    "    X_train,\n",
    "    validation_data=(\n",
    "        X_test,\n",
    "        y_test\n",
    "    ),\n",
    "    callbacks=callbacks,\n",
    "    epochs=100,\n",
    "    batch_size=32\n",
    ")"
   ]
  },
  {
   "cell_type": "markdown",
   "metadata": {},
   "source": [
    "### • Avaliação da rede"
   ]
  },
  {
   "cell_type": "code",
   "execution_count": null,
   "metadata": {},
   "outputs": [],
   "source": [
    "# Definição dos subplots\n",
    "fig, ax = plt.subplots(figsize=(15, 16), nrows=2)\n",
    "\n",
    "# Gráfico da acurácia do modelo por época\n",
    "ax[0].plot(history.history['accuracy'])\n",
    "ax[0].plot(history.history['val_accuracy'])\n",
    "ax[0].set_title('Acurácia do modelo por época', fontsize=18)\n",
    "ax[0].set_ylabel('Acurácia', fontsize=14)\n",
    "ax[0].set_xlabel('Época', fontsize=14)\n",
    "ax[0].legend(['Treino', 'Teste'], loc='upper left', fontsize=16)\n",
    "\n",
    "# Gráfico da loss do modelo por época\n",
    "ax[1].plot(history.history['loss'])\n",
    "ax[1].plot(history.history['val_loss'])\n",
    "ax[0].set_title('Loss do modelo por época', fontsize=18)\n",
    "ax[0].set_ylabel('Loss', fontsize=14)\n",
    "ax[0].set_xlabel('Época', fontsize=14)\n",
    "ax[0].legend(['Treino', 'Teste'], loc='upper left', fontsize=16)\n",
    "\n",
    "# Ajuste do layout do plot\n",
    "plt.tight_layout()"
   ]
  },
  {
   "cell_type": "markdown",
   "metadata": {},
   "source": [
    "### • Predição usando a rede treinada"
   ]
  },
  {
   "cell_type": "code",
   "execution_count": null,
   "metadata": {},
   "outputs": [],
   "source": [
    "y_test_pred = np.argmax(model.predict(X_test), axis=1)"
   ]
  },
  {
   "cell_type": "markdown",
   "metadata": {},
   "source": [
    "### • Matriz de confusão"
   ]
  },
  {
   "cell_type": "code",
   "execution_count": null,
   "metadata": {},
   "outputs": [],
   "source": [
    "# Criação da matriz de confusão\n",
    "cm = confusion_matrix(np.argmax(y_test, axis=1), y_test_pred)\n",
    "\n",
    "# Criação da visualização da matriz de confusão\n",
    "cm_plt = ConfusionMatrixDisplay(\n",
    "    confusion_matrix=cm,\n",
    "    display_labels=[0,1]\n",
    ")\n",
    "\n",
    "# Exibição da matriz de confusão\n",
    "cm_plt.plot(cmap=plt.cm.Blues)\n",
    "plt.show()"
   ]
  }
 ],
 "metadata": {
  "interpreter": {
   "hash": "ac59ebe37160ed0dfa835113d9b8498d9f09ceb179beaac4002f036b9467c963"
  },
  "kernelspec": {
   "display_name": "Python 3 (ipykernel)",
   "language": "python",
   "name": "python3"
  },
  "language_info": {
   "codemirror_mode": {
    "name": "ipython",
    "version": 3
   },
   "file_extension": ".py",
   "mimetype": "text/x-python",
   "name": "python",
   "nbconvert_exporter": "python",
   "pygments_lexer": "ipython3",
   "version": "3.9.7"
  }
 },
 "nbformat": 4,
 "nbformat_minor": 4
}
